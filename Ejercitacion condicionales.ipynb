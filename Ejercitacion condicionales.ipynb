{
 "cells": [
  {
   "attachments": {},
   "cell_type": "markdown",
   "metadata": {},
   "source": [
    "# Ejercicios de estructura condicional simple"
   ]
  },
  {
   "attachments": {},
   "cell_type": "markdown",
   "metadata": {},
   "source": [
    "### 1. Realice un programa que solicite dos letras ingresadas por el usuario y verifique si son iguales o no, mostrando un mensaje."
   ]
  },
  {
   "cell_type": "code",
   "execution_count": null,
   "metadata": {},
   "outputs": [],
   "source": [
    "letra1 = input(\"Ingrese una letra:\")\n",
    "letra2 = input(\"Ingrese otra letra:\")\n",
    "if letra1==letra2:\n",
    "    print(\"las letras son iguales\")\n",
    "else:\n",
    "    print(\"las letras son distintas\")"
   ]
  },
  {
   "attachments": {},
   "cell_type": "markdown",
   "metadata": {},
   "source": [
    "### 2. Hacer un programa que permita decidir si dos palabras son iguales o diferentes. Mostrar mensaje por pantalla."
   ]
  },
  {
   "cell_type": "code",
   "execution_count": null,
   "metadata": {},
   "outputs": [],
   "source": [
    "palabra1 = input(\"Ingrese una palabra:\")\n",
    "palabra2 = input(\"Ingrese otra palabra:\")\n",
    "if palabra1==palabra2:\n",
    "    print(\"las palabras son iguales\")\n",
    "else:\n",
    "    print(\"las palabres son distintas\")"
   ]
  },
  {
   "attachments": {},
   "cell_type": "markdown",
   "metadata": {},
   "source": [
    "### 3. Realizar un programa que permita ingresar “f” o “m” y determinar si vota en mesa femenina o masculina."
   ]
  },
  {
   "cell_type": "code",
   "execution_count": 11,
   "metadata": {},
   "outputs": [
    {
     "name": "stdout",
     "output_type": "stream",
     "text": [
      "ingrese un genero valido\n"
     ]
    }
   ],
   "source": [
    "genero = input(\"Ingrese el genero de la persona m para masculino o f para femenino:\")\n",
    "if genero==\"f\":\n",
    "    print(\"vota en mesa femenina\")\n",
    "elif genero==\"m\":\n",
    "    print(\"vota en mesa masculina\")\n",
    "else:\n",
    "    print(\"ingrese un genero valido\")"
   ]
  },
  {
   "attachments": {},
   "cell_type": "markdown",
   "metadata": {},
   "source": [
    "### 4. Realice un programa que lea dos números y diga cuál es el mayor."
   ]
  },
  {
   "cell_type": "code",
   "execution_count": null,
   "metadata": {},
   "outputs": [],
   "source": [
    "numero1 = int(input(\"Ingrese un numero:\"))\n",
    "numero2 = int(input(\"Ingrese otro numero:\"))\n",
    "if numero1==numero2:\n",
    "    print(\"los numeros son iguales\")\n",
    "elif numero1>numero2:\n",
    "    print(\"el numero 1 es mayor al numero 2\")\n",
    "else:\n",
    "    print(\"el numero 2 es mayor al numero 1\")"
   ]
  },
  {
   "attachments": {},
   "cell_type": "markdown",
   "metadata": {},
   "source": [
    "### 5. Realice un programa que cambie pesos a dólares. Mejórelo, añadiendo el cambio de dólares a pesos y que sea el usuario quién decida qué tipo de cambio quiere, si de dólares a pesos o viceversa."
   ]
  },
  {
   "cell_type": "code",
   "execution_count": null,
   "metadata": {},
   "outputs": [],
   "source": [
    "importe = float(input(\"Ingrese un importe:\"))\n",
    "tipo = input(\"Ingrese ARS si decide cambiar a pesos o USD si decide cambiar a dolares:\")\n",
    "if tipo==\"ARS\":\n",
    "    conversion = importe*485\n",
    "elif tipo==\"USD\":\n",
    "    conversion = importe/485\n",
    "else:\n",
    "    print(\"ingrese un tipo de cambio valido\")\n",
    "print('La conversión de ' + str(importe) + ' es ' + str(conversion))"
   ]
  },
  {
   "attachments": {},
   "cell_type": "markdown",
   "metadata": {},
   "source": [
    "### 6. Realice un programa donde el usuario ingrese su edad. Si es mayor de 16 años, muestre un mensaje diciendo “puede votar”, sino “no vota”."
   ]
  },
  {
   "cell_type": "code",
   "execution_count": 28,
   "metadata": {},
   "outputs": [
    {
     "name": "stdout",
     "output_type": "stream",
     "text": [
      "no vota\n"
     ]
    }
   ],
   "source": [
    "edad = int(input(\"Ingrese su edad:\"))\n",
    "if edad>=16:\n",
    "    print(\"puede votar\")\n",
    "else:\n",
    "    print(\"no vota\")"
   ]
  },
  {
   "attachments": {},
   "cell_type": "markdown",
   "metadata": {},
   "source": [
    "# Ejercicios estructura condicional compuesto (IF anidados)"
   ]
  },
  {
   "attachments": {},
   "cell_type": "markdown",
   "metadata": {},
   "source": [
    "### 1. Introducir los lados de un triángulo y visualizar por pantalla si dicho triángulo es equilátero, isósceles o escaleno."
   ]
  },
  {
   "cell_type": "code",
   "execution_count": 12,
   "metadata": {},
   "outputs": [
    {
     "name": "stdout",
     "output_type": "stream",
     "text": [
      "el triangulo es escaleno\n"
     ]
    }
   ],
   "source": [
    "lado1 = int(input(\"Ingrese su edad:\"))\n",
    "lado2 = int(input(\"Ingrese su edad:\"))\n",
    "lado3 = int(input(\"Ingrese su edad:\"))\n",
    "if lado1==lado2 and lado1==lado3:\n",
    "    print(\"el triangulo es equilatero\")\n",
    "elif lado1==lado2 or lado1==lado3 or lado2==lado3:\n",
    "    print(\"el triangulo es isosceles\")\n",
    "else:\n",
    "    print(\"el triangulo es escaleno\")\n"
   ]
  },
  {
   "attachments": {},
   "cell_type": "markdown",
   "metadata": {},
   "source": [
    "### 2. Realice un programa que le permita al usuario simular el pago ingresando el importe y la forma de pago:\n",
    "### • Contado (1): se aplica un descuento del 10% al importe\n",
    "### • Tarjeta (2): se aplica un interés de 10%\n",
    "### • Débito (3): se aplica un descuento del 5%\n",
    "### Mostrar el importe, el descuento o interés y el importe total."
   ]
  },
  {
   "cell_type": "code",
   "execution_count": 15,
   "metadata": {},
   "outputs": [
    {
     "name": "stdout",
     "output_type": "stream",
     "text": [
      "Su compra de 1000.0 pagando con DEBITO es 950.0\n"
     ]
    }
   ],
   "source": [
    "pago = float(input(\"Ingrese un importe:\"))\n",
    "formadepago = input(\"Ingrese CONTADO, TARJETA o DEBITO para indicar forma de pago:\")\n",
    "if formadepago==\"CONTADO\":\n",
    "    total = pago*0.90\n",
    "elif formadepago==\"TARJETA\":\n",
    "    total = pago*1.10\n",
    "elif formadepago==\"DEBITO\":\n",
    "    total = pago*0.95\n",
    "else:\n",
    "    print(\"ingrese una forma de pago valida\")\n",
    "print('Su compra de ' + str(pago) + ' pagando con ' + str(formadepago) + ' es ' + str(total))"
   ]
  },
  {
   "attachments": {},
   "cell_type": "markdown",
   "metadata": {},
   "source": [
    "### 3. Realice un programa que lea tres números, muestre cuál es el mayor y determine si es par o impar."
   ]
  },
  {
   "cell_type": "code",
   "execution_count": 27,
   "metadata": {},
   "outputs": [
    {
     "name": "stdout",
     "output_type": "stream",
     "text": [
      "6es el mayor y es par\n"
     ]
    }
   ],
   "source": [
    "n1 = int(input(\"Ingrese numero 1:\"))\n",
    "n2 = int(input(\"Ingrese numero 2:\"))\n",
    "n3 = int(input(\"Ingrese numero 3:\"))\n",
    "if n1>n2 and n1>n3:\n",
    "    if n1 % 2 == 0:\n",
    "        print(str(n1) + \" es el mayor y es par\")\n",
    "    else: \n",
    "        print(str(n1) + \" es el mayor y es impar\")\n",
    "elif n2>=n1 and n2>=n3:\n",
    "    if n2 % 2 == 0:\n",
    "        print(str(n2) + \" es el mayor y es par\")\n",
    "    else:\n",
    "        print(str(n2) + \" es el mayor y es impar\")\n",
    "elif n3>n1 and n3>n2:\n",
    "    if n3 % 2 == 0:\n",
    "        print(str(n3) + \" es el mayor y es par\")\n",
    "    else:\n",
    "        print(str(n3) + \" es el mayor y es impar\")\n",
    "else:\n",
    "    print(\"ingrese un valor valido\")"
   ]
  },
  {
   "attachments": {},
   "cell_type": "markdown",
   "metadata": {},
   "source": [
    "### 4. Confeccione un programa que pida un número del 1 al 7 y diga el día de la semana correspondiente."
   ]
  },
  {
   "cell_type": "code",
   "execution_count": 26,
   "metadata": {},
   "outputs": [
    {
     "name": "stdout",
     "output_type": "stream",
     "text": [
      "El dia es viernes\n"
     ]
    }
   ],
   "source": [
    "num = int(input(\"Ingrese un valor del 1 al 7:\"))\n",
    "if num>0 and num<8:\n",
    "    if num == 1:\n",
    "        dia = \"lunes\"\n",
    "    elif num == 2:\n",
    "        dia = \"martes\"\n",
    "    elif num == 3:\n",
    "        dia = \"miercoles\"\n",
    "    elif num == 4:\n",
    "        dia = \"jueves\"\n",
    "    elif num == 5:\n",
    "        dia = \"viernes\"\n",
    "    elif num == 6:\n",
    "        dia = \"sabado\"\n",
    "    elif num == 7:\n",
    "        dia = \"domingo\"\n",
    "    print ('El dia es ' + str(dia))\n",
    "else:\n",
    "    print('ingrese un valor valido')"
   ]
  },
  {
   "attachments": {},
   "cell_type": "markdown",
   "metadata": {},
   "source": [
    "### 5. Realice un programa que pida un número del 1 al 12 y diga el nombre del mes correspondiente."
   ]
  },
  {
   "cell_type": "code",
   "execution_count": 33,
   "metadata": {},
   "outputs": [
    {
     "name": "stdout",
     "output_type": "stream",
     "text": [
      "ingrese un valor valido\n"
     ]
    }
   ],
   "source": [
    "num = int(input(\"Ingrese un valor del 1 al 12:\"))\n",
    "if num>0 and num<13:\n",
    "    if num == 1:\n",
    "        mes = \"enero\"\n",
    "    elif num == 2:\n",
    "        mes = \"febrero\"\n",
    "    elif num == 3:\n",
    "        mes = \"marzo\"\n",
    "    elif num == 4:\n",
    "        mes = \"abril\"\n",
    "    elif num == 5:\n",
    "        mes = \"mayo\"\n",
    "    elif num == 6:\n",
    "        mes = \"junio\"\n",
    "    elif num == 7:\n",
    "        mes = \"julio\"\n",
    "    elif num == 8:\n",
    "        mes = \"agosto\"\n",
    "    elif num == 9:\n",
    "        mes = \"septiembre\"\n",
    "    elif num == 10:\n",
    "        mes = \"octubre\"\n",
    "    elif num == 11:\n",
    "        mes = \"noviembre\"\n",
    "    elif num == 12:\n",
    "        mes = \"diciembre\"\n",
    "    print ('El mes es ' + str(mes))\n",
    "else:\n",
    "    print('ingrese un valor valido')"
   ]
  }
 ],
 "metadata": {
  "kernelspec": {
   "display_name": "Python 3",
   "language": "python",
   "name": "python3"
  },
  "language_info": {
   "codemirror_mode": {
    "name": "ipython",
    "version": 3
   },
   "file_extension": ".py",
   "mimetype": "text/x-python",
   "name": "python",
   "nbconvert_exporter": "python",
   "pygments_lexer": "ipython3",
   "version": "3.11.3"
  },
  "orig_nbformat": 4
 },
 "nbformat": 4,
 "nbformat_minor": 2
}
