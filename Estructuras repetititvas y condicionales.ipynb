{
 "cells": [
  {
   "attachments": {},
   "cell_type": "markdown",
   "metadata": {},
   "source": [
    "# Ejercicios estructuras repetitivas y estructuras condicionales."
   ]
  },
  {
   "attachments": {},
   "cell_type": "markdown",
   "metadata": {},
   "source": [
    "### 1. Realice un programa que lea 4 números y diga cuántos son pares y cuantos impares y devuelva la sumatoria de los pares."
   ]
  },
  {
   "cell_type": "code",
   "execution_count": null,
   "metadata": {},
   "outputs": [],
   "source": [
    "lista=list()\n",
    "pares = 0\n",
    "impares =  0\n",
    "for i in range(4):\n",
    "    lista.append(int(input(\"ingrese un numero: \")))\n",
    "for i in range(4):\n",
    "    if lista[i] % 2 == 0:\n",
    "        pares += 1\n",
    "    else:\n",
    "        impares += 1\n",
    "print ('Los numeros son ' + str(lista) + ' la cantidad de numeros pares es ' + str(pares)+ ' la cantidad de numeros impares es ' + str(impares))"
   ]
  },
  {
   "attachments": {},
   "cell_type": "markdown",
   "metadata": {},
   "source": [
    "### 2. Leer 10 números y obtener la cantidad de mayores y la cantidad de menores a 100, cuál es el número máximo y cuál es el número mínimo."
   ]
  },
  {
   "cell_type": "code",
   "execution_count": null,
   "metadata": {},
   "outputs": [],
   "source": [
    "lista=list()\n",
    "mayores = 0\n",
    "menores =  0\n",
    "for i in range(10):\n",
    "    lista.append(int(input(\"ingrese un numero\")))\n",
    "for i in range(10):\n",
    "    if lista[i] <= 100:\n",
    "        menores += 1\n",
    "    elif lista[i] >= 100:\n",
    "        mayores += 1\n",
    "mayor = max(lista)\n",
    "menor = min(lista)\n",
    "print ('Los numeros son ' + str(lista) + ' la cantidad de numeros mayores a 100 es ' + str(mayores)+ \n",
    "       ' la cantidad de numeros menores es ' + str(menores) + ' el mayor es ' + str(mayor) + ' el menor es ' + str(menor))"
   ]
  },
  {
   "attachments": {},
   "cell_type": "markdown",
   "metadata": {},
   "source": [
    "### 3. Ingresar las edades y el sexo de 15 personas y determinar cuántas son mujeres, cuántos varones, cuántos mayores de edad y cuántos menores de edad."
   ]
  },
  {
   "cell_type": "code",
   "execution_count": null,
   "metadata": {},
   "outputs": [],
   "source": [
    "edades=list()\n",
    "sexo=list()\n",
    "mujeres = 0\n",
    "varones = 0 \n",
    "mayores = 0\n",
    "menores = 0\n",
    "for i in range(15):\n",
    "    edades.append(int(input(\"ingrese edad\")))\n",
    "    sexo.append(input(\"ingrese sexo indicando M para mujer, V para varón\"))\n",
    "for i in range(15):\n",
    "    if sexo[i].upper() == \"M\":\n",
    "        mujeres += 1\n",
    "    elif sexo[i] == \"V\":\n",
    "        varones += 1\n",
    "    if edades[i] >= 18:\n",
    "        mayores += 1\n",
    "    else:\n",
    "        menores += 1\n",
    "print ('la cantidad de mujeres es ' + str(mujeres) + ' la cantidad de varones es ' + str(varones)+ \n",
    "       ' la cantidad de menores es ' + str(menores) + ' la cantidad de mayores es ' + str(mayores))\n"
   ]
  },
  {
   "attachments": {},
   "cell_type": "markdown",
   "metadata": {},
   "source": [
    "### 4. Leer 10 números y mostrar solamente los números positivos, y su sumatoria."
   ]
  },
  {
   "cell_type": "code",
   "execution_count": null,
   "metadata": {},
   "outputs": [],
   "source": [
    "lista=list()\n",
    "positivos=list()\n",
    "for i in range(10):\n",
    "    lista.append(int(input(\"ingrese un numero\")))\n",
    "for i in range(10):\n",
    "    if lista[i] > 0:\n",
    "        positivos.append(lista[i])\n",
    "suma = sum(positivos)\n",
    "print ('Los numeros son positivos son ' + str(positivos) + ' y la suma de ellos es ' + str(suma))"
   ]
  },
  {
   "attachments": {},
   "cell_type": "markdown",
   "metadata": {},
   "source": [
    "### 5. Leer 15 números negativos y convertirlos a positivos e imprimir dichos números."
   ]
  },
  {
   "cell_type": "code",
   "execution_count": null,
   "metadata": {},
   "outputs": [],
   "source": [
    "lista=list()\n",
    "for i in range(15):\n",
    "    lista.append(int(input(\"escriba un numero negativo\")))\n",
    "for i in range(15):\n",
    "    lista[i] = abs(lista[i])\n",
    "print ('Los numeros son ' + str(lista))"
   ]
  }
 ],
 "metadata": {
  "kernelspec": {
   "display_name": "Python 3",
   "language": "python",
   "name": "python3"
  },
  "language_info": {
   "codemirror_mode": {
    "name": "ipython",
    "version": 3
   },
   "file_extension": ".py",
   "mimetype": "text/x-python",
   "name": "python",
   "nbconvert_exporter": "python",
   "pygments_lexer": "ipython3",
   "version": "3.10.11"
  },
  "orig_nbformat": 4
 },
 "nbformat": 4,
 "nbformat_minor": 2
}
